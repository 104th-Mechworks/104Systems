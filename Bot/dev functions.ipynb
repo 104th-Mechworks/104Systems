{
 "cells": [
  {
   "cell_type": "code",
   "execution_count": 1,
   "id": "initial_id",
   "metadata": {
    "collapsed": true,
    "ExecuteTime": {
     "end_time": "2023-12-30T01:23:13.357653Z",
     "start_time": "2023-12-30T01:23:13.344418Z"
    }
   },
   "outputs": [
    {
     "name": "stdout",
     "output_type": "stream",
     "text": [
      "2023-12-30 01:23:13\n"
     ]
    }
   ],
   "source": [
    "import datetime\n",
    "\n",
    "from dateutil.relativedelta import relativedelta\n",
    "\n",
    "timestamp = datetime.datetime.now().strftime(\"%Y-%m-%d %H:%M:%S\")\n",
    "print(timestamp)"
   ]
  },
  {
   "cell_type": "code",
   "outputs": [
    {
     "name": "stdout",
     "output_type": "stream",
     "text": [
      "2024-03-30 03:15:37.917157\n"
     ]
    }
   ],
   "source": [
    "from dateutil.relativedelta import relativedelta\n",
    "plus3months = datetime.datetime.now()+ relativedelta(months=3)\n",
    "print(plus3months)"
   ],
   "metadata": {
    "collapsed": false,
    "ExecuteTime": {
     "end_time": "2023-12-30T03:15:37.922098Z",
     "start_time": "2023-12-30T03:15:37.918990Z"
    }
   },
   "id": "c7db403404a34fe5",
   "execution_count": 3
  },
  {
   "cell_type": "code",
   "outputs": [
    {
     "name": "stdout",
     "output_type": "stream",
     "text": [
      "No match: CPL Ollie CT-34589\n",
      "No match: COM Rain CT-4554\n",
      "No match: MCPO Possibly N-4\n",
      "No match: ASGT Atin A-24\n",
      "No match: CPT Dymphna CT-15376\n",
      "No match: PVT Royal RC-1-3456\n",
      "No match: PVT Ceran RC-4-22/344\n"
     ]
    }
   ],
   "source": [
    "import re\n",
    "\n",
    "pattern = re.compile(r'^([A-Z]+(?:\\s+[A-Z]+)?)(?:\\s+([A-Z]+))?\\s([A-Z]+)-(\\d+(?:-\\d+)?)$')\n",
    "\n",
    "examples = [\n",
    "    \"CPL Ollie CT-34589\",\n",
    "    \"COM Rain CT-4554\",\n",
    "    \"MCPO Possibly N-4\",\n",
    "    \"ASGT Atin A-24\",\n",
    "    \"CPT Dymphna CT-15376\",\n",
    "    \"PVT Royal RC-1-3456\",\n",
    "    \"PVT Ceran RC-4-22/344\"\n",
    "]\n",
    "\n",
    "for example in examples:\n",
    "    match = pattern.match(example)\n",
    "    if match:\n",
    "        print(f\"Match: {example}\")\n",
    "        print(f\"Rank: {match.group(1)}\")\n",
    "        print(f\"Optional Rank: {match.group(2)}\" if match.group(2) else \"No Optional Rank\")\n",
    "        print(f\"Name: {match.group(3)}\")\n",
    "        print(f\"Numerical Code: {match.group(4)}\")\n",
    "        print()\n",
    "    else:\n",
    "        print(f\"No match: {example}\")"
   ],
   "metadata": {
    "collapsed": false,
    "ExecuteTime": {
     "end_time": "2023-12-30T18:04:18.890650Z",
     "start_time": "2023-12-30T18:04:18.881872Z"
    }
   },
   "id": "3e0262d1e3845cd",
   "execution_count": 1
  },
  {
   "cell_type": "code",
   "outputs": [
    {
     "name": "stdout",
     "output_type": "stream",
     "text": [
      "Original: XYZ Company, Mapped: army\n",
      "Original: ABC Corporation, Mapped: SFC\n",
      "Original: Company Limited, Mapped: army\n",
      "Original: Obsidian Owls Wing, Mapped: SFC\n",
      "Original: silver Sparrows squadron, Mapped: SFC\n"
     ]
    }
   ],
   "source": [
    "# Function to map a string to 'army' if it contains 'company'\n",
    "def map_string(input_string):\n",
    "    if 'company' in input_string.lower():\n",
    "        return 'army'\n",
    "    elif 'squadron' or 'wing' in input_string.lower():\n",
    "        return 'SFC'\n",
    "    else:\n",
    "        return input_string\n",
    "\n",
    "# Test the function\n",
    "strings = [\"XYZ Company\", \"ABC Corporation\", \"Company Limited\", \"Obsidian Owls Wing\", \"silver Sparrows squadron\"]\n",
    "\n",
    "mapped_values = [map_string(s) for s in strings]\n",
    "\n",
    "# Print the result\n",
    "for original, mapped in zip(strings, mapped_values):\n",
    "    print(f\"Original: {original}, Mapped: {mapped}\")\n"
   ],
   "metadata": {
    "collapsed": false,
    "ExecuteTime": {
     "end_time": "2023-12-30T20:57:36.108703Z",
     "start_time": "2023-12-30T20:57:36.106539Z"
    }
   },
   "id": "813ae1e4857a9a6a",
   "execution_count": 3
  },
  {
   "cell_type": "code",
   "outputs": [
    {
     "name": "stdout",
     "output_type": "stream",
     "text": [
      "Ares\n",
      "Havoc\n",
      "Rancor\n"
     ]
    }
   ],
   "source": [
    "def map_company(id):\n",
    "    companies = {\n",
    "        723079290346012723: \"Ares\",\n",
    "        723081780285931602: \"Reaper\",\n",
    "        723080192268173412: \"Havoc\",\n",
    "        802593631008981012: \"Valkyrie\",\n",
    "        802593654203482140: \"Monarch\",\n",
    "        823291208826355722: \"Horizon\",\n",
    "        723084217122291818: \"Vanguard\",\n",
    "        750752796781052024: \"Rogue\",\n",
    "        723093092764352592: \"Rancor\",\n",
    "        723086687495913492: \"Owls\",\n",
    "        723086680608735262: \"Eagles\"\n",
    "    }\n",
    "    return companies.get(id)\n",
    "\n",
    "ids = [723079290346012723, 723080192268173412, 723093092764352592]\n",
    "\n",
    "for id in ids: \n",
    "    print(map_company(id))\n",
    "\n"
   ],
   "metadata": {
    "collapsed": false,
    "ExecuteTime": {
     "end_time": "2023-12-30T21:03:49.336238Z",
     "start_time": "2023-12-30T21:03:49.332603Z"
    }
   },
   "id": "85bda6dba14fc57b",
   "execution_count": 6
  },
  {
   "cell_type": "code",
   "outputs": [],
   "source": [],
   "metadata": {
    "collapsed": false
   },
   "id": "e7bc941967b0c0af"
  }
 ],
 "metadata": {
  "kernelspec": {
   "display_name": "Python 3",
   "language": "python",
   "name": "python3"
  },
  "language_info": {
   "codemirror_mode": {
    "name": "ipython",
    "version": 2
   },
   "file_extension": ".py",
   "mimetype": "text/x-python",
   "name": "python",
   "nbconvert_exporter": "python",
   "pygments_lexer": "ipython2",
   "version": "2.7.6"
  }
 },
 "nbformat": 4,
 "nbformat_minor": 5
}
